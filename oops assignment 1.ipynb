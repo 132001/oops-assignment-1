{
 "cells": [
  {
   "cell_type": "code",
   "execution_count": 1,
   "id": "558d5bcb-091d-4bd7-bd34-fd74f622d196",
   "metadata": {},
   "outputs": [
    {
     "name": "stdout",
     "output_type": "stream",
     "text": [
      "PW SKILLS\n",
      "Ankit Kumawat\n"
     ]
    }
   ],
   "source": [
    "#Question 1\n",
    "#Ans\n",
    "#Class:- Class is a buleprint. When we declare a class then it will not take any space in memory\n",
    "#Object:- Object is an instance of class when we declare an object then it will take space in memomy. Different objects will occupy different  \n",
    "# space in memory.\n",
    "#OOPs: - It follows Do not repeat yourself functionality.\n",
    "#Example: - In real life scenerio a class can be considered as a class and students can be considered as objects.\n",
    "class Test:\n",
    "    def print_data(self,value):\n",
    "        print(value)\n",
    "obj = Test()\n",
    "obj.print_data(\"PW SKILLS\")\n",
    "obj2 = Test()\n",
    "obj2.print_data(\"Ankit Kumawat\")"
   ]
  },
  {
   "cell_type": "code",
   "execution_count": 2,
   "id": "a7e556ac-1024-4f1e-895b-c0c3e379f6d6",
   "metadata": {},
   "outputs": [],
   "source": [
    "#Question 2\n",
    "#Ans: - \n",
    "#Four pillars of OOPS\n",
    "# 1. Polymorphism -> poly means many and morphism means forms.\n",
    "# 2. Inheritance -> 2.1 Single level inheritance , 2.2 Multilevel inheritance, 2.3 Multiple inheritance\n",
    "# 3. Abstraction -> If a method is decalred as abstract in parent class then we have to override it in our child class.\n",
    "# 4. Encapsulation -> Bind all the data inside the class."
   ]
  },
  {
   "cell_type": "code",
   "execution_count": 3,
   "id": "663f4c18-1ceb-4683-857e-0c876d9b7596",
   "metadata": {},
   "outputs": [
    {
     "name": "stdout",
     "output_type": "stream",
     "text": [
      "Welcome to PW SKILLS.\n"
     ]
    }
   ],
   "source": [
    "#Question 3\n",
    "#Ans\n",
    "#__init__() -> It is used like a constructor. We do not have to create another method to assign values to class variables.\n",
    "#Example:-\n",
    "class Test:\n",
    "    def __init__(self,first_name,last_name):\n",
    "        self.first_name = first_name\n",
    "        self.last_name = last_name\n",
    "    \n",
    "    def print_data(self):\n",
    "        print(f'Welcome to {self.first_name} {self.last_name}.')\n",
    "        \n",
    "obj = Test(\"PW\",\"SKILLS\")\n",
    "obj.print_data()"
   ]
  },
  {
   "cell_type": "code",
   "execution_count": 4,
   "id": "29493649-ad82-4473-a77f-6c152903ff10",
   "metadata": {},
   "outputs": [
    {
     "ename": "TypeError",
     "evalue": "Test.fun() takes 0 positional arguments but 1 was given",
     "output_type": "error",
     "traceback": [
      "\u001b[0;31m---------------------------------------------------------------------------\u001b[0m",
      "\u001b[0;31mTypeError\u001b[0m                                 Traceback (most recent call last)",
      "Cell \u001b[0;32mIn[4], line 9\u001b[0m\n\u001b[1;32m      7\u001b[0m         \u001b[38;5;28mprint\u001b[39m(\u001b[38;5;124m\"\u001b[39m\u001b[38;5;124mHello\u001b[39m\u001b[38;5;124m\"\u001b[39m)\n\u001b[1;32m      8\u001b[0m obj \u001b[38;5;241m=\u001b[39m Test()\n\u001b[0;32m----> 9\u001b[0m \u001b[43mobj\u001b[49m\u001b[38;5;241;43m.\u001b[39;49m\u001b[43mfun\u001b[49m\u001b[43m(\u001b[49m\u001b[43m)\u001b[49m\n",
      "\u001b[0;31mTypeError\u001b[0m: Test.fun() takes 0 positional arguments but 1 was given"
     ]
    }
   ],
   "source": [
    "#Question 4\n",
    "#Ans\n",
    "#self -> It is used to bind all the method to the class. If we do not use it in a function argument as a first parameter then we will face an error.\n",
    "#It is not a reserved keyword we can also put another name but it has to be the first parameter of class method.\n",
    "class Test:\n",
    "    def fun():\n",
    "        print(\"Hello\")\n",
    "obj = Test()\n",
    "obj.fun()"
   ]
  },
  {
   "cell_type": "code",
   "execution_count": 5,
   "id": "65a5c0d9-7f59-4901-bf5f-ef8adfd73e8a",
   "metadata": {},
   "outputs": [],
   "source": [
    "#It gives us because we did not use self as an argument in funtion parameter."
   ]
  },
  {
   "cell_type": "code",
   "execution_count": 6,
   "id": "34fb0307-7dec-4c38-ab54-7e672e46e75b",
   "metadata": {},
   "outputs": [
    {
     "name": "stdout",
     "output_type": "stream",
     "text": [
      "Hello\n"
     ]
    }
   ],
   "source": [
    "class Test:\n",
    "    def fun(self):\n",
    "        print(\"Hello\")\n",
    "obj = Test()\n",
    "obj.fun()"
   ]
  },
  {
   "cell_type": "code",
   "execution_count": 7,
   "id": "a2c48699-9a45-4500-91e6-fd0a3f791a8a",
   "metadata": {},
   "outputs": [],
   "source": [
    "#Now it runs."
   ]
  },
  {
   "cell_type": "code",
   "execution_count": 8,
   "id": "3243c29e-a989-4eff-affc-4ce80d5e39b8",
   "metadata": {},
   "outputs": [],
   "source": [
    "#Question 5\n",
    "#Ans\n",
    "#Inheritance -> \n",
    "#1. Inheritance allows us to define a class that inherits all the methods and properties from another class.\n",
    "#2. Parent class is the class being inherited from, also called base class.\n",
    "#3. Child class is the class that inherits from another class, also called derived class.\n",
    "# Types of inheritance: -\n",
    "#1. Singlelevel Inheritance\n",
    "#2. Multilevel Inheritance\n",
    "#3. Multiple Inheritance\n"
   ]
  },
  {
   "cell_type": "code",
   "execution_count": 9,
   "id": "e0cd9398-32c6-447e-b6e3-5d5228908018",
   "metadata": {},
   "outputs": [
    {
     "name": "stdout",
     "output_type": "stream",
     "text": [
      "I am parent class data.\n"
     ]
    }
   ],
   "source": [
    "#Single level inheritance:-\n",
    "class Parent:\n",
    "    def __init__(self):\n",
    "        print(\"I am parent class data.\")\n",
    "class Child(Parent):\n",
    "    def __init__(self):\n",
    "        super().__init__()\n",
    "        print(\"I am child class data.\")\n",
    "p_obj = Parent()"
   ]
  },
  {
   "cell_type": "code",
   "execution_count": 10,
   "id": "ede0c437-bde3-4b8a-a4f6-96a95092e6ec",
   "metadata": {},
   "outputs": [
    {
     "name": "stdout",
     "output_type": "stream",
     "text": [
      "I am parent class data.\n",
      "I am child class data.\n"
     ]
    }
   ],
   "source": [
    "c_obj = Child()"
   ]
  },
  {
   "cell_type": "code",
   "execution_count": 11,
   "id": "ccf354d0-051c-4bb0-9bf2-25b39ed0c1d7",
   "metadata": {},
   "outputs": [
    {
     "name": "stdout",
     "output_type": "stream",
     "text": [
      "I am Grandfather.\n"
     ]
    }
   ],
   "source": [
    "#Multilevel inheritance:-\n",
    "class GrandFather:\n",
    "    def __init__(self):\n",
    "        print(\"I am Grandfather.\")\n",
    "class Father(GrandFather):\n",
    "    def __init__(self):\n",
    "        super().__init__()\n",
    "        print(\"I am Father.\")\n",
    "class Child(Father):\n",
    "    def __init__(self):\n",
    "        super().__init__()\n",
    "        print(\"I am Child.\")\n",
    "g_obj = GrandFather()"
   ]
  },
  {
   "cell_type": "code",
   "execution_count": 12,
   "id": "a12b79a9-f4ef-41ad-b216-88152341cfa5",
   "metadata": {},
   "outputs": [
    {
     "name": "stdout",
     "output_type": "stream",
     "text": [
      "I am Grandfather.\n",
      "I am Father.\n"
     ]
    }
   ],
   "source": [
    "f_obj = Father()"
   ]
  },
  {
   "cell_type": "code",
   "execution_count": 13,
   "id": "601954a4-5fea-494b-a053-66799177603e",
   "metadata": {},
   "outputs": [
    {
     "name": "stdout",
     "output_type": "stream",
     "text": [
      "I am Grandfather.\n",
      "I am Father.\n",
      "I am Child.\n"
     ]
    }
   ],
   "source": [
    "c_obj = Child()"
   ]
  },
  {
   "cell_type": "code",
   "execution_count": 14,
   "id": "152cee3b-fdb8-40c4-84be-978be2208e17",
   "metadata": {},
   "outputs": [
    {
     "name": "stdout",
     "output_type": "stream",
     "text": [
      "I am father.\n"
     ]
    }
   ],
   "source": [
    "#Multiple inheritance:-\n",
    "class Father:\n",
    "    def __init__(self):\n",
    "        print(\"I am father.\")\n",
    "class Mother:\n",
    "    def __init__(self):\n",
    "        print(\"I am mother.\")\n",
    "class Child(Father,Mother):\n",
    "    def __init__(self):\n",
    "        Father.__init__(self)\n",
    "        Mother.__init__(self)\n",
    "        print(\"I am child.\")\n",
    "f_obj = Father()"
   ]
  },
  {
   "cell_type": "code",
   "execution_count": 15,
   "id": "c572cac0-b27a-4895-bd43-2d81cf48ad54",
   "metadata": {},
   "outputs": [
    {
     "name": "stdout",
     "output_type": "stream",
     "text": [
      "I am mother.\n"
     ]
    }
   ],
   "source": [
    "m_obj = Mother()"
   ]
  },
  {
   "cell_type": "code",
   "execution_count": 16,
   "id": "235a9929-4ada-4bc4-86bc-438f68e19aad",
   "metadata": {},
   "outputs": [
    {
     "name": "stdout",
     "output_type": "stream",
     "text": [
      "I am father.\n",
      "I am mother.\n",
      "I am child.\n"
     ]
    }
   ],
   "source": [
    "c_obj = Child()"
   ]
  },
  {
   "cell_type": "code",
   "execution_count": null,
   "id": "8423a9b9-6114-4685-b687-83fbede4b752",
   "metadata": {},
   "outputs": [],
   "source": []
  }
 ],
 "metadata": {
  "kernelspec": {
   "display_name": "Python 3 (ipykernel)",
   "language": "python",
   "name": "python3"
  },
  "language_info": {
   "codemirror_mode": {
    "name": "ipython",
    "version": 3
   },
   "file_extension": ".py",
   "mimetype": "text/x-python",
   "name": "python",
   "nbconvert_exporter": "python",
   "pygments_lexer": "ipython3",
   "version": "3.10.8"
  }
 },
 "nbformat": 4,
 "nbformat_minor": 5
}
